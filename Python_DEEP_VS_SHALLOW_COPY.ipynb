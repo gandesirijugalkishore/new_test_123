{
  "nbformat": 4,
  "nbformat_minor": 0,
  "metadata": {
    "colab": {
      "name": "Python0.ipynb",
      "provenance": [],
      "authorship_tag": "ABX9TyOlZLksZ9ARjuUo44nnIGzL",
      "include_colab_link": true
    },
    "kernelspec": {
      "name": "python3",
      "display_name": "Python 3"
    },
    "language_info": {
      "name": "python"
    }
  },
  "cells": [
    {
      "cell_type": "markdown",
      "metadata": {
        "id": "view-in-github",
        "colab_type": "text"
      },
      "source": [
        "<a href=\"https://colab.research.google.com/github/gandesirijugalkishore/new_test_123/blob/master/Python_DEEP_VS_SHALLOW_COPY.ipynb\" target=\"_parent\"><img src=\"https://colab.research.google.com/assets/colab-badge.svg\" alt=\"Open In Colab\"/></a>"
      ]
    },
    {
      "cell_type": "markdown",
      "source": [
        "DEEP COPY VS SHALLOW COPY"
      ],
      "metadata": {
        "id": "8qj4CdS55FLz"
      }
    },
    {
      "cell_type": "code",
      "execution_count": 2,
      "metadata": {
        "colab": {
          "base_uri": "https://localhost:8080/"
        },
        "id": "J4M4T0Q90y3O",
        "outputId": "e6c26b3f-73f7-4bfa-d38c-504f1ade0714"
      },
      "outputs": [
        {
          "output_type": "stream",
          "name": "stdout",
          "text": [
            "[[-1, 2, 3], [4, 5, 6]]\n",
            "[[-1, 2, 3], [4, 5, 6]]\n"
          ]
        }
      ],
      "source": [
        "a = [[1,2,3],[4,5,6]]\n",
        "b = a\n",
        "b[0][0] = -1\n",
        "\n",
        "print(a)\n",
        "print(b)"
      ]
    },
    {
      "cell_type": "code",
      "source": [
        "#Deep Copy copies copies the object into a new ref, Hence changes made to one copy will not affect the other\n",
        "import copy\n",
        "\n",
        "a = [[1,2,3],[4,5,6]]\n",
        "b = copy.deepcopy(a)\n",
        "b[0][0] = -1\n",
        "a[1][0] = -4\n",
        "\n",
        "\n",
        "print(a)\n",
        "print(b)"
      ],
      "metadata": {
        "colab": {
          "base_uri": "https://localhost:8080/"
        },
        "id": "v8qpXHce1VSU",
        "outputId": "a6deb3d8-bba5-4838-a2c5-f3a74578f02d"
      },
      "execution_count": 6,
      "outputs": [
        {
          "output_type": "stream",
          "name": "stdout",
          "text": [
            "[[1, 2, 3], [-4, 5, 6]]\n",
            "[[-1, 2, 3], [4, 5, 6]]\n"
          ]
        }
      ]
    },
    {
      "cell_type": "code",
      "source": [
        "#Shallow copy copies points the new object into the same reference,Hence changes made to one copy will affect the other\n",
        "\n",
        "a = [[1,2,3],[4,5,6]]\n",
        "b = copy.copy(a)\n",
        "b[0][0] = -1\n",
        "a[1][0] = -4\n",
        "\n",
        "print(a)\n",
        "print(b)"
      ],
      "metadata": {
        "colab": {
          "base_uri": "https://localhost:8080/"
        },
        "id": "CHw7tl1Q22_b",
        "outputId": "a6b6c8a7-0d72-49d1-eb38-072bf71e1e09"
      },
      "execution_count": 5,
      "outputs": [
        {
          "output_type": "stream",
          "name": "stdout",
          "text": [
            "[[-1, 2, 3], [-4, 5, 6]]\n",
            "[[-1, 2, 3], [-4, 5, 6]]\n"
          ]
        }
      ]
    },
    {
      "cell_type": "code",
      "source": [
        ""
      ],
      "metadata": {
        "id": "s1ZT-G-T26pU"
      },
      "execution_count": null,
      "outputs": []
    }
  ]
}