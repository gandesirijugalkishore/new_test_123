{
 "cells": [
  {
   "cell_type": "code",
   "execution_count": 29,
   "metadata": {},
   "outputs": [
    {
     "name": "stdout",
     "output_type": "stream",
     "text": [
      "0 p\n",
      "<class 'int'>\n"
     ]
    }
   ],
   "source": [
    "t=[0]\n",
    "l=['p']\n",
    "for i,c in zip(t,l):\n",
    "    print(i,c)\n",
    "    print(type(i))"
   ]
  },
  {
   "cell_type": "code",
   "execution_count": 13,
   "metadata": {},
   "outputs": [],
   "source": [
    "c={'datapoints': [[None, 1588872960],\n",
    "   [None, 1588873200],\n",
    "   [None, 1588873440],[None, 1588873680]]}"
   ]
  },
  {
   "cell_type": "code",
   "execution_count": 23,
   "metadata": {},
   "outputs": [
    {
     "name": "stdout",
     "output_type": "stream",
     "text": [
      "None\n",
      "None\n",
      "None\n",
      "None\n"
     ]
    }
   ],
   "source": [
    "\n",
    "for j in c[d]:\n",
    "        print(j[0])"
   ]
  },
  {
   "cell_type": "code",
   "execution_count": 24,
   "metadata": {},
   "outputs": [],
   "source": [
    "l = [[1, 2, 3], [4, 5, 6], [7], [8, 9]]"
   ]
  },
  {
   "cell_type": "code",
   "execution_count": 33,
   "metadata": {},
   "outputs": [],
   "source": [
    "import pandas as pd\n",
    "import numpy as np\n",
    "\n",
    "crimes = [[{u'category': u'anti-social-behaviour',u'location': {u'latitude': u'52.309886',\n",
    "u'longitude': u'0.496902'},u'month': u'2015-01'},{u'category': u'anti-social-behaviour',u'location': {u'latitude': u'52.306209',\n",
    "u'longitude': u'0.490475'},u'month': u'2015-02'}]]\n",
    "\n",
    "# format into a flat list\n",
    "formatted_crimes = [[x['category'], x['location']['latitude'], x['location']['longitude']] for i in crimes for x in i]\n",
    "\n",
    "# now pass the formatted list to DataFrame and label the columns\n",
    "df = pd.DataFrame(formatted_crimes, columns=['Category', 'Latitude', 'Longitude'])"
   ]
  },
  {
   "cell_type": "code",
   "execution_count": 34,
   "metadata": {},
   "outputs": [
    {
     "data": {
      "text/html": [
       "<div>\n",
       "<style scoped>\n",
       "    .dataframe tbody tr th:only-of-type {\n",
       "        vertical-align: middle;\n",
       "    }\n",
       "\n",
       "    .dataframe tbody tr th {\n",
       "        vertical-align: top;\n",
       "    }\n",
       "\n",
       "    .dataframe thead th {\n",
       "        text-align: right;\n",
       "    }\n",
       "</style>\n",
       "<table border=\"1\" class=\"dataframe\">\n",
       "  <thead>\n",
       "    <tr style=\"text-align: right;\">\n",
       "      <th></th>\n",
       "      <th>Category</th>\n",
       "      <th>Latitude</th>\n",
       "      <th>Longitude</th>\n",
       "    </tr>\n",
       "  </thead>\n",
       "  <tbody>\n",
       "    <tr>\n",
       "      <th>0</th>\n",
       "      <td>anti-social-behaviour</td>\n",
       "      <td>52.309886</td>\n",
       "      <td>0.496902</td>\n",
       "    </tr>\n",
       "    <tr>\n",
       "      <th>1</th>\n",
       "      <td>anti-social-behaviour</td>\n",
       "      <td>52.306209</td>\n",
       "      <td>0.490475</td>\n",
       "    </tr>\n",
       "  </tbody>\n",
       "</table>\n",
       "</div>"
      ],
      "text/plain": [
       "                Category   Latitude Longitude\n",
       "0  anti-social-behaviour  52.309886  0.496902\n",
       "1  anti-social-behaviour  52.306209  0.490475"
      ]
     },
     "execution_count": 34,
     "metadata": {},
     "output_type": "execute_result"
    }
   ],
   "source": [
    "df"
   ]
  },
  {
   "cell_type": "code",
   "execution_count": 35,
   "metadata": {},
   "outputs": [],
   "source": [
    "c=[(1588874640, '4C72B000FA', None),\n",
    " (1588874880, '4C72B000FA', None),\n",
    " (1588875120, '4C72B000FA', None),\n",
    " (1588875360, '4C72B000FA', None),\n",
    " (1588875600, '4C72B000FA', None),\n",
    " (1588875840, '4C72B000FA', None),\n",
    " (1588876080, '4C72B000FA', None),\n",
    " (1588876320, '4C72B000FA', None),\n",
    " (1588876560, '4C72B000FA', None)]"
   ]
  },
  {
   "cell_type": "code",
   "execution_count": 47,
   "metadata": {},
   "outputs": [
    {
     "name": "stdout",
     "output_type": "stream",
     "text": [
      "1588874640 4C72B000FA\n",
      "1588874640 4C72B000FA\n",
      "1588874640 4C72B000FA\n",
      "1588874640 4C72B000FA\n",
      "1588874640 4C72B000FA\n",
      "1588874640 4C72B000FA\n",
      "1588874640 4C72B000FA\n",
      "1588874640 4C72B000FA\n",
      "1588874640 4C72B000FA\n"
     ]
    }
   ],
   "source": [
    "for i in c:\n",
    "    print(c[0][0],c[1][1])\n"
   ]
  },
  {
   "cell_type": "code",
   "execution_count": 42,
   "metadata": {},
   "outputs": [
    {
     "data": {
      "text/plain": [
       "[1588874640,\n",
       " '4C72B000FA',\n",
       " None,\n",
       " 1588874880,\n",
       " '4C72B000FA',\n",
       " None,\n",
       " 1588875120,\n",
       " '4C72B000FA',\n",
       " None,\n",
       " 1588875360,\n",
       " '4C72B000FA',\n",
       " None,\n",
       " 1588875600,\n",
       " '4C72B000FA',\n",
       " None,\n",
       " 1588875840,\n",
       " '4C72B000FA',\n",
       " None,\n",
       " 1588876080,\n",
       " '4C72B000FA',\n",
       " None,\n",
       " 1588876320,\n",
       " '4C72B000FA',\n",
       " None,\n",
       " 1588876560,\n",
       " '4C72B000FA',\n",
       " None]"
      ]
     },
     "execution_count": 42,
     "metadata": {},
     "output_type": "execute_result"
    }
   ],
   "source": [
    "formatted_crimes"
   ]
  },
  {
   "cell_type": "code",
   "execution_count": 103,
   "metadata": {},
   "outputs": [],
   "source": [
    "def count_code(str):\n",
    "    x=[\"co\"+i+\"e\" for i in str.lower()]\n",
    "    ind=0\n",
    "    count=0\n",
    "    for i in x:\n",
    "        if i in str[ind:]:\n",
    "            ind=str.find(i)+1\n",
    "            count+=1\n",
    "        return count\n",
    "    "
   ]
  },
  {
   "cell_type": "code",
   "execution_count": 134,
   "metadata": {},
   "outputs": [
    {
     "name": "stdout",
     "output_type": "stream",
     "text": [
      "coce\n",
      "cooe\n",
      "coxe\n",
      "coee\n"
     ]
    },
    {
     "data": {
      "text/plain": [
       "3"
      ]
     },
     "execution_count": 134,
     "metadata": {},
     "output_type": "execute_result"
    }
   ],
   "source": [
    "count_code(\"coxe\")\n",
    "str.find(i)"
   ]
  },
  {
   "cell_type": "code",
   "execution_count": 139,
   "metadata": {},
   "outputs": [
    {
     "name": "stdout",
     "output_type": "stream",
     "text": [
      "coae\n",
      "coae\n",
      "coce\n",
      "cooe\n",
      "code\n",
      "coee\n",
      "cobe\n",
      "cobe\n",
      "coce\n",
      "cooe\n",
      "cole\n",
      "coee\n",
      "coce\n",
      "coce\n",
      "coce\n",
      "coce\n",
      "cooe\n",
      "core\n",
      "coee\n",
      "code\n",
      "code\n",
      "5\n"
     ]
    }
   ],
   "source": [
    "def count_code(str):\n",
    "    x=[\"co\"+i+\"e\" for i in str.lower()]\n",
    "    count = 0\n",
    "    index = 0\n",
    "    if i in x:\n",
    "        print(i)\n",
    "        if i in str[index:]:\n",
    "#             index = str.find(i)+1\n",
    "            count+=1\n",
    "    return count\n",
    "\n",
    "print(count_code('AAcodeBBcoleCCccoreDD')) # prints 1\n",
    "# print count_code('codexxcode')  # prints 2\n",
    "# print count_code('cozexxcope')  # prints 2      \n",
    "\n"
   ]
  },
  {
   "cell_type": "code",
   "execution_count": 50,
   "metadata": {},
   "outputs": [],
   "source": [
    "l=[\"instagram\",\"facebook\",\"twitter\",\"youtube\",\"linkden\",\"snapchat\"]\n",
    "f=[\"100\",200,15,0,23,25]"
   ]
  },
  {
   "cell_type": "code",
   "execution_count": 58,
   "metadata": {},
   "outputs": [],
   "source": [
    "def socialmedia(num,acc,name):\n",
    "    if num in f:\n",
    "        print(\"valid\")\n",
    "    else:\n",
    "        print(\"not valid\")\n"
   ]
  },
  {
   "cell_type": "code",
   "execution_count": 60,
   "metadata": {},
   "outputs": [
    {
     "name": "stdout",
     "output_type": "stream",
     "text": [
      "valid\n"
     ]
    }
   ],
   "source": [
    "socialmedia(200,\"acc\",\"name\")"
   ]
  },
  {
   "cell_type": "code",
   "execution_count": 122,
   "metadata": {},
   "outputs": [
    {
     "name": "stdout",
     "output_type": "stream",
     "text": [
      "c\n",
      "o\n",
      "x\n",
      "e\n"
     ]
    }
   ],
   "source": [
    "str=\"coxe\"\n",
    "for i in str.lower():\n",
    "    print(i)"
   ]
  },
  {
   "cell_type": "code",
   "execution_count": 129,
   "metadata": {},
   "outputs": [],
   "source": [
    " def count_code1(str):\n",
    "        counts=0\n",
    "        for i in range(97,123):   #all the lowercase ASCII characters\n",
    "            counts+= str.count('co'+chr(i)+'e')\n",
    "        return counts "
   ]
  },
  {
   "cell_type": "code",
   "execution_count": 130,
   "metadata": {},
   "outputs": [
    {
     "data": {
      "text/plain": [
       "2"
      ]
     },
     "execution_count": 130,
     "metadata": {},
     "output_type": "execute_result"
    }
   ],
   "source": [
    "count_code1(\"codecope\")"
   ]
  },
  {
   "cell_type": "code",
   "execution_count": 29,
   "metadata": {},
   "outputs": [],
   "source": [
    "x={'data':'filename'}"
   ]
  },
  {
   "cell_type": "code",
   "execution_count": 23,
   "metadata": {},
   "outputs": [],
   "source": [
    "if ('filename' not in x[0][1])  or (\"data\" not in x[0][0]) :\n",
    "    print (\"message\",\"please provide data\",\"status\",\"fail\")"
   ]
  },
  {
   "cell_type": "code",
   "execution_count": 43,
   "metadata": {},
   "outputs": [
    {
     "name": "stdout",
     "output_type": "stream",
     "text": [
      "message please provide data status fail\n"
     ]
    }
   ],
   "source": [
    "if ('filename'  in x.values())   :\n",
    "    print (\"message\",\"please provide data\",\"status\",\"fail\")"
   ]
  },
  {
   "cell_type": "code",
   "execution_count": 40,
   "metadata": {},
   "outputs": [
    {
     "data": {
      "text/plain": [
       "dict_keys(['data'])"
      ]
     },
     "execution_count": 40,
     "metadata": {},
     "output_type": "execute_result"
    }
   ],
   "source": [
    "x.keys()"
   ]
  },
  {
   "cell_type": "code",
   "execution_count": null,
   "metadata": {},
   "outputs": [],
   "source": []
  }
 ],
 "metadata": {
  "kernelspec": {
   "display_name": "Python 3",
   "language": "python",
   "name": "python3"
  },
  "language_info": {
   "codemirror_mode": {
    "name": "ipython",
    "version": 3
   },
   "file_extension": ".py",
   "mimetype": "text/x-python",
   "name": "python",
   "nbconvert_exporter": "python",
   "pygments_lexer": "ipython3",
   "version": "3.7.1"
  }
 },
 "nbformat": 4,
 "nbformat_minor": 2
}
