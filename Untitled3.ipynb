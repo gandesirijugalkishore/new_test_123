{
 "cells": [
  {
   "cell_type": "code",
   "execution_count": 12,
   "metadata": {},
   "outputs": [
    {
     "name": "stdout",
     "output_type": "stream",
     "text": [
      "x\n",
      "h\n",
      "Successfully added datasource in OoBA db201\n",
      "failed\n",
      "failed3\n"
     ]
    }
   ],
   "source": [
    "conn=True\n",
    "user_id=True \n",
    "datasource_name=True \n",
    "db_type=\"mysql\" \n",
    "host_url=True\n",
    "update_to_es_flag = True\n",
    "if conn==True:\n",
    "    try:\n",
    "        \n",
    "#         body = Datasource.from_dict(connexion.request.get_json())  # noqa: E501\n",
    "    \n",
    "        if user_id==True and datasource_name==True and  host_url==True:\n",
    "            print(\"x\")\n",
    "\n",
    "            if(db_type == \"jira\"):\n",
    "                print(\"hel\")\n",
    "                jira = connect_jira(\n",
    "                    body.host_url, body.username, body.password)\n",
    "                if jira:\n",
    "                    update_to_es_flag = True\n",
    "            elif(db_type == \"mysql\"):\n",
    "                df = get_db_list(body=\"h\" )\n",
    "                \n",
    "                df\n",
    "                if df:\n",
    "                    print(\"herer\")\n",
    "                    update_to_es_flag = True\n",
    "            if update_to_es_flag:\n",
    "                data_source = \"HHHHH\"\n",
    "#                 response = insert_doc_into_es(DATASOURCE_INDEX_NAME, data_source)\n",
    "                print(\"Successfully added datasource in OoBA db201\")\n",
    "        print(\"failed\")\n",
    "    except Exception as e:\n",
    "          print(e)\n",
    "print(\"failed3\")"
   ]
  },
  {
   "cell_type": "code",
   "execution_count": 16,
   "metadata": {},
   "outputs": [
    {
     "name": "stdout",
     "output_type": "stream",
     "text": [
      "h\n",
      "None\n"
     ]
    }
   ],
   "source": [
    "def get_db_list(body ):\n",
    "    print(body)\n",
    "df = get_db_list(body=\"h\" )\n",
    "print(df)\n",
    "if df:\n",
    "    print(\"herer\")"
   ]
  },
  {
   "cell_type": "code",
   "execution_count": 66,
   "metadata": {},
   "outputs": [
    {
     "name": "stdout",
     "output_type": "stream",
     "text": [
      "result = A-1\n"
     ]
    },
    {
     "ename": "SyntaxError",
     "evalue": "'return' outside function (<ipython-input-66-035e6c38b991>, line 11)",
     "output_type": "error",
     "traceback": [
      "\u001b[0;36m  File \u001b[0;32m\"<ipython-input-66-035e6c38b991>\"\u001b[0;36m, line \u001b[0;32m11\u001b[0m\n\u001b[0;31m    return(result)\u001b[0m\n\u001b[0m                  ^\u001b[0m\n\u001b[0;31mSyntaxError\u001b[0m\u001b[0;31m:\u001b[0m 'return' outside function\n"
     ]
    }
   ],
   "source": [
    "a=[]\n"
   ]
  },
  {
   "cell_type": "code",
   "execution_count": null,
   "metadata": {},
   "outputs": [],
   "source": []
  }
 ],
 "metadata": {
  "kernelspec": {
   "display_name": "Python 3",
   "language": "python",
   "name": "python3"
  },
  "language_info": {
   "codemirror_mode": {
    "name": "ipython",
    "version": 3
   },
   "file_extension": ".py",
   "mimetype": "text/x-python",
   "name": "python",
   "nbconvert_exporter": "python",
   "pygments_lexer": "ipython3",
   "version": "3.7.1"
  }
 },
 "nbformat": 4,
 "nbformat_minor": 2
}
